{
 "cells": [
  {
   "cell_type": "markdown",
   "metadata": {},
   "source": [
    "# Python | Pandas DataFrame"
   ]
  },
  {
   "cell_type": "markdown",
   "metadata": {},
   "source": [
    "### What is Pandas?"
   ]
  },
  {
   "cell_type": "markdown",
   "metadata": {},
   "source": [
    "<b>pandas</b> is a software library written for the Python programming language for data manipulation and analysis. In particular, it offers data structures and operations for manipulating numerical tables and time series. "
   ]
  },
  {
   "cell_type": "markdown",
   "metadata": {},
   "source": [
    "### What is a Pandas DataFrame?"
   ]
  },
  {
   "cell_type": "markdown",
   "metadata": {},
   "source": [
    "<b>Pandas DataFrame</b> is two-dimensional size-mutable, potentially heterogeneous tabular data structure with labeled axes (rows and columns). \n",
    "\n",
    "A Data frame is a two-dimensional data structure, i.e., data is aligned in a tabular fashion in rows and columns. \n",
    "\n",
    "Pandas DataFrame consists of three principal components, the data, rows, and columns."
   ]
  },
  {
   "cell_type": "markdown",
   "metadata": {},
   "source": [
    "<img src=\"images/pandas.jpg\">"
   ]
  },
  {
   "cell_type": "markdown",
   "metadata": {},
   "source": [
    "A Pandas DataFrame will be created by loading the datasets from existing storage. Storage can be SQL Database, CSV file, and Excel file. \n",
    "Pandas DataFrame can be created from the lists, dictionary, and from a list of dictionary etc.\n",
    "\n",
    "Dataframe can be created in different ways here are some ways by which we create a dataframe:\n"
   ]
  },
  {
   "cell_type": "markdown",
   "metadata": {},
   "source": [
    "### Creating a dataframe using List:"
   ]
  },
  {
   "cell_type": "code",
   "execution_count": 1,
   "metadata": {},
   "outputs": [
    {
     "data": {
      "text/html": [
       "<div>\n",
       "<style scoped>\n",
       "    .dataframe tbody tr th:only-of-type {\n",
       "        vertical-align: middle;\n",
       "    }\n",
       "\n",
       "    .dataframe tbody tr th {\n",
       "        vertical-align: top;\n",
       "    }\n",
       "\n",
       "    .dataframe thead th {\n",
       "        text-align: right;\n",
       "    }\n",
       "</style>\n",
       "<table border=\"1\" class=\"dataframe\">\n",
       "  <thead>\n",
       "    <tr style=\"text-align: right;\">\n",
       "      <th></th>\n",
       "      <th>0</th>\n",
       "    </tr>\n",
       "  </thead>\n",
       "  <tbody>\n",
       "    <tr>\n",
       "      <th>0</th>\n",
       "      <td>CSC</td>\n",
       "    </tr>\n",
       "    <tr>\n",
       "      <th>1</th>\n",
       "      <td>102</td>\n",
       "    </tr>\n",
       "    <tr>\n",
       "      <th>2</th>\n",
       "      <td>is</td>\n",
       "    </tr>\n",
       "    <tr>\n",
       "      <th>3</th>\n",
       "      <td>the</td>\n",
       "    </tr>\n",
       "    <tr>\n",
       "      <th>4</th>\n",
       "      <td>best</td>\n",
       "    </tr>\n",
       "    <tr>\n",
       "      <th>5</th>\n",
       "      <td>course</td>\n",
       "    </tr>\n",
       "    <tr>\n",
       "      <th>6</th>\n",
       "      <td>ever</td>\n",
       "    </tr>\n",
       "  </tbody>\n",
       "</table>\n",
       "</div>"
      ],
      "text/plain": [
       "        0\n",
       "0     CSC\n",
       "1     102\n",
       "2      is\n",
       "3     the\n",
       "4    best\n",
       "5  course\n",
       "6    ever"
      ]
     },
     "execution_count": 1,
     "metadata": {},
     "output_type": "execute_result"
    }
   ],
   "source": [
    "# import pandas as pd\n",
    "import pandas as pd\n",
    " \n",
    "# list of strings\n",
    "lyst = ['CSC', '102', 'is', 'the', 'best', 'course', 'ever']\n",
    " \n",
    "# Calling DataFrame constructor on list\n",
    "df = pd.DataFrame(lyst)\n",
    "\n",
    "# Print the output.\n",
    "df"
   ]
  },
  {
   "cell_type": "markdown",
   "metadata": {},
   "source": [
    "### Creating a dataframe using dict of narray/lists:"
   ]
  },
  {
   "cell_type": "code",
   "execution_count": 11,
   "metadata": {},
   "outputs": [
    {
     "data": {
      "text/html": [
       "<div>\n",
       "<style scoped>\n",
       "    .dataframe tbody tr th:only-of-type {\n",
       "        vertical-align: middle;\n",
       "    }\n",
       "\n",
       "    .dataframe tbody tr th {\n",
       "        vertical-align: top;\n",
       "    }\n",
       "\n",
       "    .dataframe thead th {\n",
       "        text-align: right;\n",
       "    }\n",
       "</style>\n",
       "<table border=\"1\" class=\"dataframe\">\n",
       "  <thead>\n",
       "    <tr style=\"text-align: right;\">\n",
       "      <th></th>\n",
       "      <th>Name</th>\n",
       "      <th>Age</th>\n",
       "    </tr>\n",
       "  </thead>\n",
       "  <tbody>\n",
       "    <tr>\n",
       "      <th>0</th>\n",
       "      <td>Angela</td>\n",
       "      <td>20</td>\n",
       "    </tr>\n",
       "    <tr>\n",
       "      <th>1</th>\n",
       "      <td>Precious</td>\n",
       "      <td>21</td>\n",
       "    </tr>\n",
       "    <tr>\n",
       "      <th>2</th>\n",
       "      <td>Luis</td>\n",
       "      <td>19</td>\n",
       "    </tr>\n",
       "    <tr>\n",
       "      <th>3</th>\n",
       "      <td>Ade</td>\n",
       "      <td>18</td>\n",
       "    </tr>\n",
       "    <tr>\n",
       "      <th>4</th>\n",
       "      <td>Daniel</td>\n",
       "      <td>20</td>\n",
       "    </tr>\n",
       "  </tbody>\n",
       "</table>\n",
       "</div>"
      ],
      "text/plain": [
       "       Name  Age\n",
       "0    Angela   20\n",
       "1  Precious   21\n",
       "2      Luis   19\n",
       "3       Ade   18\n",
       "4    Daniel   20"
      ]
     },
     "execution_count": 11,
     "metadata": {},
     "output_type": "execute_result"
    }
   ],
   "source": [
    "import pandas as pd\n",
    " \n",
    "# intialise data of lists.\n",
    "data = {'Name':['Angela', 'Precious', 'Luis', 'Ade', 'Daniel'],\n",
    "        'Age':[20, 21, 19, 18,20]}\n",
    " \n",
    "# Create DataFrame\n",
    "df = pd.DataFrame(data)\n",
    " \n",
    "# Print the output.\n",
    "df"
   ]
  },
  {
   "cell_type": "markdown",
   "metadata": {},
   "source": [
    "### Column Selection:"
   ]
  },
  {
   "cell_type": "code",
   "execution_count": 13,
   "metadata": {},
   "outputs": [
    {
     "data": {
      "text/html": [
       "<div>\n",
       "<style scoped>\n",
       "    .dataframe tbody tr th:only-of-type {\n",
       "        vertical-align: middle;\n",
       "    }\n",
       "\n",
       "    .dataframe tbody tr th {\n",
       "        vertical-align: top;\n",
       "    }\n",
       "\n",
       "    .dataframe thead th {\n",
       "        text-align: right;\n",
       "    }\n",
       "</style>\n",
       "<table border=\"1\" class=\"dataframe\">\n",
       "  <thead>\n",
       "    <tr style=\"text-align: right;\">\n",
       "      <th></th>\n",
       "      <th>Name</th>\n",
       "      <th>Qualification</th>\n",
       "    </tr>\n",
       "  </thead>\n",
       "  <tbody>\n",
       "    <tr>\n",
       "      <th>0</th>\n",
       "      <td>Clem</td>\n",
       "      <td>Msc</td>\n",
       "    </tr>\n",
       "    <tr>\n",
       "      <th>1</th>\n",
       "      <td>Prince</td>\n",
       "      <td>MA</td>\n",
       "    </tr>\n",
       "    <tr>\n",
       "      <th>2</th>\n",
       "      <td>Edward</td>\n",
       "      <td>MCA</td>\n",
       "    </tr>\n",
       "    <tr>\n",
       "      <th>3</th>\n",
       "      <td>Adele</td>\n",
       "      <td>Phd</td>\n",
       "    </tr>\n",
       "  </tbody>\n",
       "</table>\n",
       "</div>"
      ],
      "text/plain": [
       "     Name Qualification\n",
       "0    Clem           Msc\n",
       "1  Prince            MA\n",
       "2  Edward           MCA\n",
       "3   Adele           Phd"
      ]
     },
     "execution_count": 13,
     "metadata": {},
     "output_type": "execute_result"
    }
   ],
   "source": [
    "# Import pandas package\n",
    "import pandas as pd\n",
    " \n",
    "# Define a dictionary containing employee data\n",
    "data = {'Name':['Clem', 'Prince', 'Edward', 'Adele'],\n",
    "        'Age':[27, 24, 22, 32],\n",
    "        'Address':['Abuja', 'Kano', 'Minna', 'Lagos'],\n",
    "        'Qualification':['Msc', 'MA', 'MCA', 'Phd']}\n",
    " \n",
    "# Convert the dictionary into DataFrame \n",
    "df = pd.DataFrame(data)\n",
    " \n",
    "# select two columns\n",
    "df[['Name', 'Qualification']]\n"
   ]
  },
  {
   "cell_type": "markdown",
   "metadata": {},
   "source": [
    "### Row Selection:\n",
    "Pandas provide a unique method to retrieve rows from a Data frame.<br>\n",
    "<i><font color=\"green\">DataFrame.iloc[]</font></i> method is used to retrieve rows from Pandas DataFrame.<br>"
   ]
  },
  {
   "cell_type": "code",
   "execution_count": 15,
   "metadata": {},
   "outputs": [
    {
     "data": {
      "text/plain": [
       "Name              Oyin\n",
       "Age                 27\n",
       "Address          Asaba\n",
       "Qualification      Msc\n",
       "Name: 0, dtype: object"
      ]
     },
     "execution_count": 15,
     "metadata": {},
     "output_type": "execute_result"
    }
   ],
   "source": [
    "import pandas as pg\n",
    " \n",
    "# Define a dictionary containing employee data\n",
    "data = {'Name':['Oyin', 'Mary', 'David', 'Bola'],\n",
    "        'Age':[27, 24, 22, 32],\n",
    "        'Address':['Asaba', 'Maiduguri', 'Onitsha', 'Kwara'],\n",
    "        'Qualification':['Msc', 'MA', 'MCA', 'Phd']}\n",
    " \n",
    "# Convert the dictionary into DataFrame \n",
    "df = pd.DataFrame(data)\n",
    " \n",
    "# select first row\n",
    "df.iloc[0]"
   ]
  },
  {
   "cell_type": "markdown",
   "metadata": {},
   "source": [
    "### Read from a file:"
   ]
  },
  {
   "cell_type": "code",
   "execution_count": 17,
   "metadata": {},
   "outputs": [
    {
     "name": "stdout",
     "output_type": "stream",
     "text": [
      "   Unnamed: 0     name  degree  score\n",
      "0           0     Abel     MBA     90\n",
      "1           1    Kamsi     BCA     40\n",
      "2           2    Oyode  M.Tech     80\n",
      "3           3  Chinelo     MBA     98\n"
     ]
    }
   ],
   "source": [
    "# importing pandas package\n",
    "import pandas as pd\n",
    " \n",
    "# making data frame from csv file\n",
    "data = pd.read_csv(\"employee_records.csv\")\n",
    "\n",
    "# print excel\n",
    "print(data)"
   ]
  },
  {
   "cell_type": "markdown",
   "metadata": {},
   "source": [
    "### Select first row from file"
   ]
  },
  {
   "cell_type": "code",
   "execution_count": 14,
   "metadata": {},
   "outputs": [
    {
     "name": "stdout",
     "output_type": "stream",
     "text": [
      "Unnamed: 0       0\n",
      "name          Abel\n",
      "degree         MBA\n",
      "score           90\n",
      "Name: 0, dtype: object\n"
     ]
    }
   ],
   "source": [
    "# importing pandas package\n",
    "import pandas as pd\n",
    " \n",
    "# making data frame from csv file\n",
    "data = pd.read_csv(\"employee_records.csv\")\n",
    "\n",
    "df=data.iloc[0]\n",
    "\n",
    "# print excel\n",
    "print (df)"
   ]
  },
  {
   "cell_type": "markdown",
   "metadata": {},
   "source": [
    "### Selecting Row with Title Header"
   ]
  },
  {
   "cell_type": "code",
   "execution_count": 16,
   "metadata": {},
   "outputs": [
    {
     "name": "stdout",
     "output_type": "stream",
     "text": [
      "   Unnamed: 0  name degree  score\n",
      "0           0  Abel    MBA     90\n"
     ]
    }
   ],
   "source": [
    "# importing pandas package\n",
    "import pandas as pd\n",
    " \n",
    "# making data frame from csv file\n",
    "data = pd.read_csv(\"employee_records.csv\")\n",
    "\n",
    "df=data.head(1)\n",
    "\n",
    "# print excel\n",
    "print(df)"
   ]
  },
  {
   "cell_type": "markdown",
   "metadata": {},
   "source": [
    "### Looping over rows and columns\n",
    "A loop is a general term for taking each item of something, one after another.<br> Pandas DataFrame consists of rows and columns so, in order to loop over dataframe, we have to iterate a dataframe like a dictionary.<br><br>\n",
    "In order to iterate over rows, we can use two functions <i><font color=\"green\">iteritems(), iterrows() </font></i>. These two functions will help in iteration over rows."
   ]
  },
  {
   "cell_type": "code",
   "execution_count": 4,
   "metadata": {},
   "outputs": [
    {
     "ename": "ModuleNotFoundError",
     "evalue": "No module named 'pandas'",
     "output_type": "error",
     "traceback": [
      "\u001b[31m---------------------------------------------------------------------------\u001b[39m",
      "\u001b[31mModuleNotFoundError\u001b[39m                       Traceback (most recent call last)",
      "\u001b[36mCell\u001b[39m\u001b[36m \u001b[39m\u001b[32mIn[4]\u001b[39m\u001b[32m, line 2\u001b[39m\n\u001b[32m      1\u001b[39m \u001b[38;5;66;03m# importing pandas as pd\u001b[39;00m\n\u001b[32m----> \u001b[39m\u001b[32m2\u001b[39m \u001b[38;5;28;01mimport\u001b[39;00m\u001b[38;5;250m \u001b[39m\u001b[34;01mpandas\u001b[39;00m\u001b[38;5;250m \u001b[39m\u001b[38;5;28;01mas\u001b[39;00m\u001b[38;5;250m \u001b[39m\u001b[34;01mpd\u001b[39;00m\n\u001b[32m      4\u001b[39m \u001b[38;5;66;03m# dictionary of lists\u001b[39;00m\n\u001b[32m      5\u001b[39m \u001b[38;5;28mdict\u001b[39m = {\u001b[33m'\u001b[39m\u001b[33mname\u001b[39m\u001b[33m'\u001b[39m:[\u001b[33m\"\u001b[39m\u001b[33mAbdul\u001b[39m\u001b[33m\"\u001b[39m, \u001b[33m\"\u001b[39m\u001b[33mChukwuemeka\u001b[39m\u001b[33m\"\u001b[39m, \u001b[33m\"\u001b[39m\u001b[33mSeyi\u001b[39m\u001b[33m\"\u001b[39m, \u001b[33m\"\u001b[39m\u001b[33mMatt\u001b[39m\u001b[33m\"\u001b[39m],\n\u001b[32m      6\u001b[39m         \u001b[33m'\u001b[39m\u001b[33mdegree\u001b[39m\u001b[33m'\u001b[39m: [\u001b[33m\"\u001b[39m\u001b[33mMBA\u001b[39m\u001b[33m\"\u001b[39m, \u001b[33m\"\u001b[39m\u001b[33mBCA\u001b[39m\u001b[33m\"\u001b[39m, \u001b[33m\"\u001b[39m\u001b[33mM.Tech\u001b[39m\u001b[33m\"\u001b[39m, \u001b[33m\"\u001b[39m\u001b[33mMBA\u001b[39m\u001b[33m\"\u001b[39m],\n\u001b[32m      7\u001b[39m         \u001b[33m'\u001b[39m\u001b[33mscore\u001b[39m\u001b[33m'\u001b[39m:[\u001b[32m90\u001b[39m, \u001b[32m40\u001b[39m, \u001b[32m80\u001b[39m, \u001b[32m98\u001b[39m]}\n",
      "\u001b[31mModuleNotFoundError\u001b[39m: No module named 'pandas'"
     ]
    }
   ],
   "source": [
    "# importing pandas as pd\n",
    "import pandas as pd\n",
    "  \n",
    "# dictionary of lists\n",
    "dict = {'name':[\"Abdul\", \"Chukwuemeka\", \"Seyi\", \"Matt\"],\n",
    "        'degree': [\"MBA\", \"BCA\", \"M.Tech\", \"MBA\"],\n",
    "        'score':[90, 40, 80, 98]}\n",
    " \n",
    "# creating a dataframe from a dictionary \n",
    "df = pd.DataFrame(dict)\n",
    "\n",
    "# iterating over rows using iterrows() function \n",
    "for i,j in df.iterrows():\n",
    "    print(i,j)\n",
    "    print()"
   ]
  },
  {
   "cell_type": "markdown",
   "metadata": {},
   "source": [
    "### Looping over Columns :\n",
    "In order to loop over columns, we need to create a list of dataframe columns and then iterating through that list to pull out the dataframe columns."
   ]
  },
  {
   "cell_type": "code",
   "execution_count": 11,
   "metadata": {},
   "outputs": [
    {
     "name": "stdout",
     "output_type": "stream",
     "text": [
      "Ugochi\n",
      "M.Tech\n",
      "80\n"
     ]
    }
   ],
   "source": [
    "# importing pandas as pd\n",
    "import pandas as pd\n",
    "   \n",
    "# dictionary of lists\n",
    "dict = {'name':[\"Bello\", \"Kamara\", \"Ugochi\", \"David\"],\n",
    "        'degree': [\"MBA\", \"BCA\", \"M.Tech\", \"MBA\"],\n",
    "        'score':[90, 40, 80, 98]}\n",
    "  \n",
    "# creating a dataframe from a dictionary \n",
    "df = pd.DataFrame(dict)\n",
    "\n",
    "# creating a list of dataframe columns\n",
    "columns = list(df)\n",
    " \n",
    "for i in columns:\n",
    " \n",
    "    # printing the third element of the column\n",
    "    print (df[i][2])"
   ]
  },
  {
   "cell_type": "markdown",
   "metadata": {},
   "source": [
    "### Saving a DataFrame as CSV file"
   ]
  },
  {
   "cell_type": "code",
   "execution_count": 13,
   "metadata": {},
   "outputs": [],
   "source": [
    "# importing pandas as pd\n",
    "import pandas as pd\n",
    "   \n",
    "# dictionary of lists\n",
    "records = {'name':[\"Abel\", \"Kamsi\", \"Oyode\", \"Chinelo\"],\n",
    "        'degree': [\"MBA\", \"BCA\", \"M.Tech\", \"MBA\"],\n",
    "        'score':[90, 40, 80, 98]}\n",
    "  \n",
    "# creating a dataframe from a dictionary \n",
    "df = pd.DataFrame(records)\n",
    "\n",
    "# saving the dataframe\n",
    "df.to_csv('record.csv')"
   ]
  },
  {
   "cell_type": "markdown",
   "metadata": {},
   "source": [
    "## Class Project I\n"
   ]
  },
  {
   "cell_type": "markdown",
   "metadata": {},
   "source": [
    "####  Go to www.kaggle.com\n",
    "\n",
    "Kaggle allows users to find and publish data sets, explore and build models in a web-based data-science environment, work with other data scientists and machine learning engineers, and enter competitions to solve data science challenges.\n",
    "\n",
    "#### Download the following dataset:\n",
    "1. Top Apps in Google Play\n",
    "2. Cryptocurrency Predict Artificial Intelligence V3\n",
    "3. Programming Languages Trend Over Time\n",
    "\n",
    "#### Clue\n",
    "You can signin with either Google, facebook or Linkedin account\n",
    "\n",
    "#### Task\n",
    "Display the first 7 rows of each dataset<br>\n",
    "Select the first 3 colums of each dataset<br>\n",
    "Display only one row and header of each dataset\n"
   ]
  },
  {
   "cell_type": "code",
   "execution_count": 34,
   "metadata": {},
   "outputs": [
    {
     "name": "stdout",
     "output_type": "stream",
     "text": [
      "   Unnamed: 0                          App Name  \\\n",
      "0           1              Google Play services   \n",
      "1           2                           YouTube   \n",
      "2           3                            Google   \n",
      "3           4  Google Maps - Navigate & Explore   \n",
      "4           5             Google Text-to-Speech   \n",
      "5           6      Google Chrome: Fast & Secure   \n",
      "6           7                             Gmail   \n",
      "\n",
      "                                    App Id                 Category  \\\n",
      "0                   com.google.android.gms                    Tools   \n",
      "1               com.google.android.youtube  Video Players & Editors   \n",
      "2  com.google.android.googlequicksearchbox                    Tools   \n",
      "3             com.google.android.apps.maps           Travel & Local   \n",
      "4                   com.google.android.tts                    Tools   \n",
      "5                       com.android.chrome            Communication   \n",
      "6                    com.google.android.gm            Communication   \n",
      "\n",
      "  Developer Id                                  Developer Website  \\\n",
      "0   Google LLC  https://developers.google.com/android/google-p...   \n",
      "1   Google LLC  https://support.google.com/youtube/topic/24225...   \n",
      "2   Google LLC               https://www.google.com/search/about/   \n",
      "3   Google LLC                      http://maps.google.com/about/   \n",
      "4   Google LLC                             http://www.google.com/   \n",
      "5   Google LLC               http://www.google.com/chrome/android   \n",
      "6   Google LLC  http://support.google.com/mail/bin/topic.py?hl...   \n",
      "\n",
      "                Developer Email Content Rating  Ad Supported  In App Purchases  \n",
      "0          apps-help@google.com       Everyone         False             False  \n",
      "1  ytandroid-support@google.com           Teen          True             False  \n",
      "2          apps-help@google.com       Everyone          True             False  \n",
      "3          apps-help@google.com       Everyone          True             False  \n",
      "4       tts-feedback@google.com       Everyone         False             False  \n",
      "5          apps-help@google.com       Everyone         False             False  \n",
      "6          apps-help@google.com       Everyone          True             False  \n",
      "   Unnamed: 0              App Name                      App Id  \\\n",
      "0           1  Google Play services      com.google.android.gms   \n",
      "1           2               YouTube  com.google.android.youtube   \n",
      "\n",
      "                  Category Developer Id  \\\n",
      "0                    Tools   Google LLC   \n",
      "1  Video Players & Editors   Google LLC   \n",
      "\n",
      "                                   Developer Website  \\\n",
      "0  https://developers.google.com/android/google-p...   \n",
      "1  https://support.google.com/youtube/topic/24225...   \n",
      "\n",
      "                Developer Email Content Rating  Ad Supported  In App Purchases  \n",
      "0          apps-help@google.com       Everyone         False             False  \n",
      "1  ytandroid-support@google.com           Teen          True             False  \n",
      "   SNo  Name Symbol                 Date       High        Low       Open  \\\n",
      "0    1  Aave   AAVE  2020-10-05 23:59:59  55.112358  49.787900  52.675035   \n",
      "1    2  Aave   AAVE  2020-10-06 23:59:59  53.402270  40.734578  53.291969   \n",
      "2    3  Aave   AAVE  2020-10-07 23:59:59  42.408314  35.970690  42.399947   \n",
      "3    4  Aave   AAVE  2020-10-08 23:59:59  44.902511  36.696057  39.885262   \n",
      "4    5  Aave   AAVE  2020-10-09 23:59:59  47.569533  43.291776  43.764463   \n",
      "5    6  Aave   AAVE  2020-10-10 23:59:59  51.405655  46.703328  46.818146   \n",
      "6    7  Aave   AAVE  2020-10-11 23:59:59  51.453374  48.716040  49.133130   \n",
      "\n",
      "       Close        Volume     Marketcap  \n",
      "0  53.219243  0.000000e+00  8.912813e+07  \n",
      "1  42.401599  5.830915e+05  7.101144e+07  \n",
      "2  40.083976  6.828342e+05  6.713004e+07  \n",
      "3  43.764463  1.658817e+06  2.202651e+08  \n",
      "4  46.817744  8.155377e+05  2.356322e+08  \n",
      "5  49.133718  1.074627e+06  2.472884e+08  \n",
      "6  49.660726  6.921506e+05  2.499408e+08  \n",
      "   SNo  Name Symbol                 Date       High        Low       Open  \\\n",
      "0    1  Aave   AAVE  2020-10-05 23:59:59  55.112358  49.787900  52.675035   \n",
      "1    2  Aave   AAVE  2020-10-06 23:59:59  53.402270  40.734578  53.291969   \n",
      "\n",
      "       Close         Volume     Marketcap  \n",
      "0  53.219243       0.000000  8.912813e+07  \n",
      "1  42.401599  583091.459763  7.101144e+07  \n",
      "             Date  Abap   Ada  C/C++    C#  Cobol  Dart  Delphi/Pascal   Go  \\\n",
      "0       July 2004  0.34  0.36  10.01  4.68   0.42   0.0           2.80  0.0   \n",
      "1     August 2004  0.35  0.36   9.74  4.96   0.46   0.0           2.65  0.0   \n",
      "2  September 2004  0.41  0.41   9.59  5.04   0.51   0.0           2.64  0.0   \n",
      "3    October 2004  0.40  0.38   9.47  5.29   0.53   0.0           2.76  0.0   \n",
      "4   November 2004  0.38  0.38   9.48  5.22   0.55   0.0           2.75  0.0   \n",
      "5   December 2004  0.36  0.37   9.53  5.22   0.53   0.0           2.76  0.0   \n",
      "6    January 2005  0.39  0.38   9.69  5.23   0.56   0.0           2.65  0.0   \n",
      "\n",
      "   Groovy  ...  Powershell  Python     R  Ruby  Rust  Scala  Swift  \\\n",
      "0    0.03  ...        0.16    2.51  0.39  0.33  0.24   0.17    0.0   \n",
      "1    0.07  ...        0.15    2.62  0.40  0.40  0.19   0.17    0.0   \n",
      "2    0.08  ...        0.08    2.71  0.40  0.41  0.17   0.13    0.0   \n",
      "3    0.09  ...        0.12    2.91  0.42  0.46  0.12   0.14    0.0   \n",
      "4    0.07  ...        0.12    2.83  0.41  0.44  0.17   0.15    0.0   \n",
      "5    0.09  ...        0.04    2.70  0.39  0.42  0.19   0.12    0.0   \n",
      "6    0.11  ...        0.04    2.91  0.39  0.47  0.15   0.09    0.0   \n",
      "\n",
      "   TypeScript   VBA  Visual Basic  \n",
      "0         0.0  1.43          8.50  \n",
      "1         0.0  1.45          8.51  \n",
      "2         0.0  1.54          8.38  \n",
      "3         0.0  1.61          8.46  \n",
      "4         0.0  1.50          8.21  \n",
      "5         0.0  1.45          8.06  \n",
      "6         0.0  1.50          7.78  \n",
      "\n",
      "[7 rows x 30 columns]\n",
      "          Date  Abap   Ada  C/C++    C#  Cobol  Dart  Delphi/Pascal   Go  \\\n",
      "0    July 2004  0.34  0.36  10.01  4.68   0.42   0.0           2.80  0.0   \n",
      "1  August 2004  0.35  0.36   9.74  4.96   0.46   0.0           2.65  0.0   \n",
      "\n",
      "   Groovy  ...  Powershell  Python     R  Ruby  Rust  Scala  Swift  \\\n",
      "0    0.03  ...        0.16    2.51  0.39  0.33  0.24   0.17    0.0   \n",
      "1    0.07  ...        0.15    2.62  0.40  0.40  0.19   0.17    0.0   \n",
      "\n",
      "   TypeScript   VBA  Visual Basic  \n",
      "0         0.0  1.43          8.50  \n",
      "1         0.0  1.45          8.51  \n",
      "\n",
      "[2 rows x 30 columns]\n"
     ]
    }
   ],
   "source": [
    "\n",
    "##PROJECT1\n",
    "import pandas as pd\n",
    "\n",
    "data = pd.read_csv(\"Top-Apps-in-Google-Play.csv\")\n",
    "\n",
    "df = data.head(7)\n",
    "\n",
    "print(df)\n",
    "\n",
    "import pandas as pd\n",
    "\n",
    "data2 = pd.read_csv(\"Top-Apps-in-Google-Play.csv\")\n",
    "\n",
    "df = pd.DataFrame(data2)\n",
    " \n",
    "# select two columns\n",
    "df[['App Name','App Id','Category']]\n",
    "\n",
    "import pandas as pd\n",
    "\n",
    "data3 = pd.read_csv(\"Top-Apps-in-Google-Play.csv\")\n",
    "\n",
    "df=data3.head(2)\n",
    "\n",
    "# print excel\n",
    "print(df)\n",
    "\n",
    "\n",
    "##PROJECT2\n",
    "\n",
    "import pandas as pd\n",
    "\n",
    "data = pd.read_csv(\"cryptocurrency.csv\")\n",
    "\n",
    "df = data.head(7)\n",
    "\n",
    "print(df)\n",
    "\n",
    "import pandas as pd\n",
    "\n",
    "data = pd.read_csv(\"cryptocurrency.csv\")\n",
    "\n",
    "df = pd.DataFrame(data)\n",
    " \n",
    "# select two columns\n",
    "df[['Name','Symbol','Date']]\n",
    "\n",
    "import pandas as pd\n",
    "\n",
    "data = pd.read_csv(\"cryptocurrency.csv\")\n",
    "\n",
    "df=data.head(2)\n",
    "\n",
    "# print excel\n",
    "print(df)\n",
    "\n",
    "##PROJECT3\n",
    "import pandas as pd\n",
    "\n",
    "data = pd.read_csv(\"Popularity of Programming Languages from 2004 to 2024.csv\")\n",
    "\n",
    "df = data.head(7)\n",
    "\n",
    "print(df)\n",
    "\n",
    "import pandas as pd\n",
    "\n",
    "data2 = pd.read_csv(\"Popularity of Programming Languages from 2004 to 2024.csv\")\n",
    "\n",
    "df = pd.DataFrame(data2)\n",
    " \n",
    "# select two columns\n",
    "df[['Date','Abap','Ada']]\n",
    "\n",
    "import pandas as pd\n",
    "\n",
    "data3 = pd.read_csv(\"Popularity of Programming Languages from 2004 to 2024.csv\")\n",
    "\n",
    "df=data3.head(2)\n",
    "\n",
    "# print excel\n",
    "print(df)\n",
    "\n",
    "\n",
    "\n",
    "\n",
    "\n"
   ]
  },
  {
   "cell_type": "markdown",
   "metadata": {},
   "source": [
    "## Class Project II"
   ]
  },
  {
   "cell_type": "markdown",
   "metadata": {},
   "source": [
    "<b>Cadbury Nigeria Plc</b> manufactures and sells branded fast moving consumer goods to the Nigerian market and exports in West Africa. The Company produces intermediate products, such as cocoa butter, liquor, cake and powder. It exports cocoa butter, cake and liquor to international customers, and cocoa powder locally. It operates through three segments: Refreshment Beverages, Confectionery and Intermediate Cocoa Products. The Refreshment Beverages segment includes the manufacture and sale of Bournvita and Hot Chocolate. The Confectionery segment includes the manufacture and sale of Tom Tom and Buttermint. The Intermediate Cocoa Products segment includes the manufacture and sale of cocoa powder, cocoa butter, cocoa liquor and cocoa cake. The Refreshment Beverages' brands include CADBURY BOURNVITA and CADBURY 3-in-1 HOT CHOCOLATE. The Confectionery's brands include TOMTOM CLASSIC, TOMTOM STRAWBERRY and BUTTERMINT. The Intermediate Cocoa Products' brands include COCOA POWDER and COCOA BUTTER.\n",
    "\n",
    "You have been employed as an expert python developer to create a program to document the consumption categories of their products and brands. Using your knowledge of Pandas DataFrames develop the program that saves the list of products (export, segments and brands) in a .csv excel file.<br><br>\n",
    "Hint: save the filename as <font color=\"green\"><i>cadbury_market.csv</i></font>."
   ]
  },
  {
   "cell_type": "code",
   "execution_count": 8,
   "metadata": {},
   "outputs": [
    {
     "data": {
      "text/html": [
       "<div>\n",
       "<style scoped>\n",
       "    .dataframe tbody tr th:only-of-type {\n",
       "        vertical-align: middle;\n",
       "    }\n",
       "\n",
       "    .dataframe tbody tr th {\n",
       "        vertical-align: top;\n",
       "    }\n",
       "\n",
       "    .dataframe thead th {\n",
       "        text-align: right;\n",
       "    }\n",
       "</style>\n",
       "<table border=\"1\" class=\"dataframe\">\n",
       "  <thead>\n",
       "    <tr style=\"text-align: right;\">\n",
       "      <th></th>\n",
       "      <th>Refreshment beverages</th>\n",
       "      <th>Confectionaries</th>\n",
       "      <th>Intermediate Cocoa Products</th>\n",
       "    </tr>\n",
       "  </thead>\n",
       "  <tbody>\n",
       "    <tr>\n",
       "      <th>0</th>\n",
       "      <td>CADBURY BOURNVITA</td>\n",
       "      <td>TOMTOM CLASSIC</td>\n",
       "      <td>COCOA POWDER</td>\n",
       "    </tr>\n",
       "    <tr>\n",
       "      <th>1</th>\n",
       "      <td>CADBURY 3in1 HOT CHOCOLATE</td>\n",
       "      <td>TOMTOM STRAWBERRY</td>\n",
       "      <td>COCOA BUTTER</td>\n",
       "    </tr>\n",
       "    <tr>\n",
       "      <th>2</th>\n",
       "      <td>MILO</td>\n",
       "      <td>BUTTERMINT</td>\n",
       "      <td>COCOA LIQUOR</td>\n",
       "    </tr>\n",
       "    <tr>\n",
       "      <th>3</th>\n",
       "      <td>OVALTINE</td>\n",
       "      <td>ALLPENLIBE</td>\n",
       "      <td>COCOA CAKE</td>\n",
       "    </tr>\n",
       "  </tbody>\n",
       "</table>\n",
       "</div>"
      ],
      "text/plain": [
       "        Refreshment beverages    Confectionaries Intermediate Cocoa Products\n",
       "0           CADBURY BOURNVITA     TOMTOM CLASSIC                COCOA POWDER\n",
       "1  CADBURY 3in1 HOT CHOCOLATE  TOMTOM STRAWBERRY                COCOA BUTTER\n",
       "2                        MILO         BUTTERMINT                COCOA LIQUOR\n",
       "3                    OVALTINE         ALLPENLIBE                  COCOA CAKE"
      ]
     },
     "execution_count": 8,
     "metadata": {},
     "output_type": "execute_result"
    }
   ],
   "source": [
    "import pandas as pd\n",
    " \n",
    "# intialise data of lists.\n",
    "data = {'Refreshment beverages':['CADBURY BOURNVITA', 'CADBURY 3in1 HOT CHOCOLATE','MILO','OVALTINE'],\n",
    "        'Confectionaries':['TOMTOM CLASSIC', 'TOMTOM STRAWBERRY', 'BUTTERMINT','ALLPENLIBE'],\n",
    "        'Intermediate Cocoa Products':['COCOA POWDER', 'COCOA BUTTER','COCOA LIQUOR', 'COCOA CAKE']}\n",
    " \n",
    "# Create DataFrame\n",
    "df = pd.DataFrame(data)\n",
    " \n",
    "# Print the output.\n",
    "df"
   ]
  }
 ],
 "metadata": {
  "kernelspec": {
   "display_name": "Python 3",
   "language": "python",
   "name": "python3"
  },
  "language_info": {
   "codemirror_mode": {
    "name": "ipython",
    "version": 3
   },
   "file_extension": ".py",
   "mimetype": "text/x-python",
   "name": "python",
   "nbconvert_exporter": "python",
   "pygments_lexer": "ipython3",
   "version": "3.13.2"
  }
 },
 "nbformat": 4,
 "nbformat_minor": 4
}
